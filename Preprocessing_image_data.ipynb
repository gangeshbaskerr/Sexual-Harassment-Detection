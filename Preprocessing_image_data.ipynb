{
 "cells": [
  {
   "cell_type": "markdown",
   "metadata": {
    "id": "5EA-xt9fqBrA"
   },
   "source": [
    "## Creating a csv file of image locations"
   ]
  },
  {
   "cell_type": "markdown",
   "metadata": {},
   "source": [
    "### Importing all necessary modules"
   ]
  },
  {
   "cell_type": "code",
   "execution_count": 1,
   "metadata": {
    "colab": {
     "base_uri": "https://localhost:8080/",
     "height": 35
    },
    "id": "tAb77yZ9fzMG",
    "outputId": "b84ef01d-ba33-48e9-b3f2-571ab90d868a"
   },
   "outputs": [],
   "source": [
    "import cv2                              # for capturing videos\n",
    "import math                             # for mathematical operations\n",
    "import matplotlib.pyplot as plt         # for plotting the images\n",
    "%matplotlib inline\n",
    "import pandas as pd\n",
    "from keras.preprocessing import image   # for preprocessing the images\n",
    "import numpy as np                      # for mathematical operations\n",
    "from tensorflow.keras.utils import to_categorical\n",
    "from skimage.transform import resize    # for resizing images\n",
    "from sklearn.model_selection import train_test_split\n",
    "from glob import glob\n",
    "from tqdm import tqdm"
   ]
  },
  {
   "cell_type": "markdown",
   "metadata": {},
   "source": [
    "### Loading all image locations as a list"
   ]
  },
  {
   "cell_type": "code",
   "execution_count": 2,
   "metadata": {
    "colab": {
     "base_uri": "https://localhost:8080/",
     "height": 36
    },
    "id": "Hb3AdgN5t4Fn",
    "outputId": "f699f084-2e1b-4de2-ef35-2c066f77714d"
   },
   "outputs": [
    {
     "data": {
      "text/plain": [
       "'images/harassment_no\\\\Screenshot 2023-07-22 215350.png'"
      ]
     },
     "execution_count": 2,
     "metadata": {},
     "output_type": "execute_result"
    }
   ],
   "source": [
    "images = glob('images/harassment_yes/*.jpg')\n",
    "images2=glob('images/harassment_yes/*.png')\n",
    "images=images+images2\n",
    "images3=glob('images/harassment_no/*.png')\n",
    "images=images+images3\n",
    "images[999]"
   ]
  },
  {
   "cell_type": "markdown",
   "metadata": {},
   "source": [
    "### Creating a DataFrame "
   ]
  },
  {
   "cell_type": "code",
   "execution_count": 3,
   "metadata": {
    "colab": {
     "base_uri": "https://localhost:8080/",
     "height": 35
    },
    "id": "EYBFyPznt4Iu",
    "outputId": "797ff93c-45eb-4da3-a508-47d52add40df"
   },
   "outputs": [],
   "source": [
    "\n",
    "train_class = []\n",
    "j=0\n",
    "for i in images:\n",
    "    j=j+1\n",
    "    # creating the class of image\n",
    "    if (j<=500):\n",
    "        train_class.append(1)\n",
    "    else:\n",
    "        train_class.append(0)\n",
    "        \n",
    "# storing the images and their class in a dataframe\n",
    "train_data = pd.DataFrame()\n",
    "train_data['image'] = images\n",
    "train_data['class'] = train_class\n",
    "\n",
    "\n",
    "# converting the dataframe into csv file \n",
    "train_data.to_csv('harrasment_as_csv.csv',header=True, index=False)"
   ]
  },
  {
   "cell_type": "code",
   "execution_count": null,
   "metadata": {
    "id": "6gG_t9KvUiiB"
   },
   "outputs": [],
   "source": []
  }
 ],
 "metadata": {
  "accelerator": "GPU",
  "colab": {
   "collapsed_sections": [],
   "machine_shape": "hm",
   "name": "Child_Labour_Final.ipynb",
   "provenance": []
  },
  "kernelspec": {
   "display_name": "Python 3 (ipykernel)",
   "language": "python",
   "name": "python3"
  },
  "language_info": {
   "codemirror_mode": {
    "name": "ipython",
    "version": 3
   },
   "file_extension": ".py",
   "mimetype": "text/x-python",
   "name": "python",
   "nbconvert_exporter": "python",
   "pygments_lexer": "ipython3",
   "version": "3.10.10"
  }
 },
 "nbformat": 4,
 "nbformat_minor": 4
}
