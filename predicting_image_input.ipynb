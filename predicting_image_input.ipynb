{
 "cells": [
  {
   "cell_type": "markdown",
   "id": "36f7fd5e-ac37-4d5b-a71f-e504032c1669",
   "metadata": {},
   "source": [
    "# Predicting an Image input\n",
    "The model detects whether the image contains any instance of Sexual Harassment and classifies the image into two class labels,\n",
    "\n",
    "0 - Healthy Environment<br>\n",
    "1 - Sexual Harassment detected"
   ]
  },
  {
   "cell_type": "markdown",
   "id": "00f2fff0-3aa0-4b29-98b3-7d1c12414ae9",
   "metadata": {},
   "source": [
    "### Importing necessary modules\n"
   ]
  },
  {
   "cell_type": "code",
   "execution_count": 4,
   "id": "5ee3540d-9093-40dd-a6a2-92ad63898290",
   "metadata": {},
   "outputs": [],
   "source": [
    "# Load the trained model\n",
    "from keras.models import load_model\n",
    "import numpy as np\n",
    "from keras.preprocessing import image\n",
    "from tensorflow.keras.preprocessing.image import load_img, img_to_array\n",
    "from tensorflow.keras.applications.vgg16 import VGG16, preprocess_input\n"
   ]
  },
  {
   "cell_type": "markdown",
   "id": "fc2dcba4-1323-46c2-a8ed-77dda254e9d1",
   "metadata": {},
   "source": [
    "### Loading the saved model\n",
    "The model saved as an output of 'Harassment_Detection_VGG16.ipynb' is loaded to make predictions."
   ]
  },
  {
   "cell_type": "code",
   "execution_count": 5,
   "id": "ea54e58c-ae55-4b72-8b34-3b89bcb88b8e",
   "metadata": {},
   "outputs": [],
   "source": [
    "model = load_model('weight.hdf5')  # Make sure you have the correct path to your saved model"
   ]
  },
  {
   "cell_type": "markdown",
   "id": "dc384b5b-cd84-41bb-af19-ea8342bab269",
   "metadata": {},
   "source": [
    "### Preprocessing the input image\n",
    "The image is preprocessed for prediction.It loads the image, resizes it, converts to a NumPy array, normalizes pixel values, and adds a batch dimension."
   ]
  },
  {
   "cell_type": "code",
   "execution_count": 8,
   "id": "ce9939ca-3864-4bf2-82b9-264ce1b213e0",
   "metadata": {},
   "outputs": [],
   "source": [
    "# Example usage\n",
    "image_path = \"test_images\\s3.jpg\"  # Replace with the path to any test image\n",
    "img = image.load_img(image_path, target_size=(224, 224))\n",
    "img = image.img_to_array(img)\n",
    "img = img / 255.0\n",
    "img = np.expand_dims(img, axis=0)  # Add batch dimension as the model expects it\n",
    "new_image = img"
   ]
  },
  {
   "cell_type": "markdown",
   "id": "ae568ecf-2478-4c70-862f-ebc8cfa196a3",
   "metadata": {},
   "source": [
    "Extracts features from the VGG16 base model for the new image and reshapes the features to match the input shape of the student model."
   ]
  },
  {
   "cell_type": "code",
   "execution_count": null,
   "id": "3788b53e-8d1c-4dde-9919-7ce79ea577d7",
   "metadata": {},
   "outputs": [],
   "source": [
    "# Extract features using the VGG16 base model\n",
    "base_model = VGG16(weights='imagenet', include_top=False)\n",
    "new_image_features = base_model.predict(new_image)\n",
    "\n",
    "# Reshape the features\n",
    "new_image_features = new_image_features.reshape(1, 7*7*512)"
   ]
  },
  {
   "cell_type": "markdown",
   "id": "28a18d43-8070-4680-a1c4-2d45c3dbf5d4",
   "metadata": {},
   "source": [
    "### Making Predictions\n",
    "The model uses the features extracted from VGG16 to make predictions."
   ]
  },
  {
   "cell_type": "code",
   "execution_count": null,
   "id": "decf0e2f-7a31-4b72-823b-87b507f7d947",
   "metadata": {},
   "outputs": [],
   "source": [
    "# Make predictions\n",
    "predictions = model.predict(new_image_features)\n",
    "\n",
    "# Since your model has 2 output neurons (softmax), you can use argmax to get the predicted class index\n",
    "predicted_class_index = np.argmax(predictions[0])\n"
   ]
  },
  {
   "cell_type": "markdown",
   "id": "1414a950-0e46-48e9-8b76-1a5866359e78",
   "metadata": {},
   "source": [
    "The predicted class index is determined, and the corresponding class label is retrieved using the class_labels dictionary"
   ]
  },
  {
   "cell_type": "code",
   "execution_count": null,
   "id": "d5318c28-b4ab-444a-a5da-28f81b37e915",
   "metadata": {},
   "outputs": [],
   "source": [
    "# If your classes are labeled as 0 and 1, you can map the index back to class labels\n",
    "class_labels = {0: 'Healthy Environment', 1: 'Sexual Harassment Detected'}\n",
    "predicted_class_label = class_labels[predicted_class_index]\n",
    "#print(type(predicted_class_label))\n",
    "print(\"Predicted Class Label:\", predicted_class_label)\n"
   ]
  }
 ],
 "metadata": {
  "kernelspec": {
   "display_name": "Python 3 (ipykernel)",
   "language": "python",
   "name": "python3"
  },
  "language_info": {
   "codemirror_mode": {
    "name": "ipython",
    "version": 3
   },
   "file_extension": ".py",
   "mimetype": "text/x-python",
   "name": "python",
   "nbconvert_exporter": "python",
   "pygments_lexer": "ipython3",
   "version": "3.10.10"
  }
 },
 "nbformat": 4,
 "nbformat_minor": 5
}
