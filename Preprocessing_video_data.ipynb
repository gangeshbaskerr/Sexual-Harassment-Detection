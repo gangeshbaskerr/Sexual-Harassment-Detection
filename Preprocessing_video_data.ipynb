{
 "cells": [
  {
   "cell_type": "markdown",
   "id": "4f0ccaca-88af-442e-8ba1-f587984fa9ac",
   "metadata": {},
   "source": [
    "# Preprocessing Video Data\n",
    "Preprocessing videos by extracting frames from them and creating a CSV file that stores information about the extracted frames which contains their file path and labels."
   ]
  },
  {
   "cell_type": "markdown",
   "id": "c87e0e2c-8fe9-4a65-853f-3e61f0b8f83a",
   "metadata": {},
   "source": [
    "## Importing necessary modules\n",
    "cv2 : For. <br>\n",
    "os : For interacting with the operating system.<br>\n",
    "pandas : For data manipulation and analysis. <br>\n",
    "tqdm : For displaying progress bars during iterations."
   ]
  },
  {
   "cell_type": "code",
   "execution_count": 2,
   "id": "34ef5b38",
   "metadata": {},
   "outputs": [],
   "source": [
    "import cv2\n",
    "import os\n",
    "import pandas as pd\n",
    "from tqdm import tqdm"
   ]
  },
  {
   "cell_type": "markdown",
   "id": "3edeaa8e-1678-4899-8805-1620235e5258",
   "metadata": {},
   "source": [
    "## Directories and Paths\n",
    "Paths specifying where the input video files are located, where the extracted frames will be saved, and where the frames information CSV file will be stored."
   ]
  },
  {
   "cell_type": "code",
   "execution_count": 5,
   "id": "12ba01b0",
   "metadata": {},
   "outputs": [],
   "source": [
    "# Paths to the directories containing harassment and non-harassment videos\n",
    "harassment_video_dir = r'C:\\SUDHARSHAN\\Machine Learning\\Application-of-Neural-Networks-for-Detection-of-Sexual-Harassment-in-Workspace-main\\Application-of-Neural-Networks-for-Detection-of-Sexual-Harassment-in-Workspace-main\\Dataset\\Harassment'\n",
    "non_harassment_video_dir = r'C:\\SUDHARSHAN\\Machine Learning\\Application-of-Neural-Networks-for-Detection-of-Sexual-Harassment-in-Workspace-main\\Application-of-Neural-Networks-for-Detection-of-Sexual-Harassment-in-Workspace-main\\Dataset\\Normal'\n",
    "\n",
    "# Path to the directory where you want to save the frames\n",
    "output_dir = r'C:\\SUDHARSHAN\\Machine Learning\\preprocessed_imgs'\n",
    "\n",
    "# Path to save the CSV file\n",
    "csv_filename = r'C:\\SUDHARSHAN\\Machine Learning\\frames_info.csv'"
   ]
  },
  {
   "cell_type": "markdown",
   "id": "1f7aa82c-5a52-4117-a3fe-114b8779c5ac",
   "metadata": {},
   "source": [
    "## Preprocessing Videos"
   ]
  },
  {
   "cell_type": "code",
   "execution_count": 6,
   "id": "bfbb1317",
   "metadata": {},
   "outputs": [],
   "source": [
    "def process_videos(video_dir, label):\n",
    "    video_files = [file for file in os.listdir(video_dir) if file.endswith('.mp4')]\n",
    "    frames_info = []\n",
    "\n",
    "    for video_file in tqdm(video_files):\n",
    "        video_name = os.path.splitext(video_file)[0] #extracts the filename without its extension \n",
    "        os.makedirs(output_dir, exist_ok=True) #ensures the directory exists\n",
    "        \n",
    "        video_path = os.path.join(video_dir, video_file) #constructs full path\n",
    "        cap = cv2.VideoCapture(video_path) #opens the video file for reading\n",
    "        \n",
    "        frame_count = 0 #keeps track of the no.  of frames\n",
    "        \n",
    "        while cap.isOpened():       #The loop continues until frames can still be read from the video\n",
    "            ret, frame = cap.read() #reads frame from the video\n",
    "            if not ret:\n",
    "                break\n",
    "            \n",
    "            frame_filename = f\"{video_name}_frame_{frame_count:04d}.jpg\" #file name is constructed\n",
    "            frame_path = os.path.join(output_dir, frame_filename) #full path is created\n",
    "            \n",
    "            cv2.imwrite(frame_path, frame) #frame is written as an image\n",
    "            \n",
    "            frames_info.append({'video_file': video_file, 'frame_filename': frame_path, 'label': label})\n",
    "            \n",
    "            frame_count += 1\n",
    "        \n",
    "        cap.release() #After processing all frames in the current video, the video capture is released\n",
    "\n",
    "    return frames_info"
   ]
  },
  {
   "cell_type": "markdown",
   "id": "b1d09a1e-a993-45bd-8e01-450465b262cf",
   "metadata": {},
   "source": [
    "The functionsa are called separately for both harassment and non harassment videos.<br>\n",
    "The label parameter is set to 1 for harassment and 0 for non-harassment."
   ]
  },
  {
   "cell_type": "code",
   "execution_count": null,
   "id": "38141af7-d141-4cc6-92de-9f09ad6ccf88",
   "metadata": {},
   "outputs": [],
   "source": [
    "# Process harassment videos and non-harassment videos separately\n",
    "harassment_frames = process_videos(harassment_video_dir, label=1)\n",
    "non_harassment_frames = process_videos(non_harassment_video_dir, label=0) "
   ]
  },
  {
   "cell_type": "markdown",
   "id": "df6994e4-7764-4c04-9951-a08b49f84bad",
   "metadata": {},
   "source": [
    "## Creating a list of frames information\n",
    "The extracted frame information from both the categories is combined into a single list."
   ]
  },
  {
   "cell_type": "code",
   "execution_count": null,
   "id": "1d88b972-d18d-42d0-9b65-7844762e8fb2",
   "metadata": {},
   "outputs": [],
   "source": [
    "# Combine the frames information from both categories\n",
    "frames_info = harassment_frames + non_harassment_frames"
   ]
  },
  {
   "cell_type": "markdown",
   "id": "e6dffb9d-498e-4034-8899-72ac235c0bd3",
   "metadata": {},
   "source": [
    "## Creating DataFrame and saving CSV\n",
    "A dataframe is created using the 'farmes_info' list.<br>\n",
    "This contains the video filename and the path of the frames extracted from the video along with their class labels."
   ]
  },
  {
   "cell_type": "code",
   "execution_count": 7,
   "id": "031df196",
   "metadata": {},
   "outputs": [
    {
     "name": "stderr",
     "output_type": "stream",
     "text": [
      "100%|██████████████████████████████████████████████████████████████████████████████████| 50/50 [08:12<00:00,  9.84s/it]\n",
      "100%|██████████████████████████████████████████████████████████████████████████████████| 50/50 [09:44<00:00, 11.70s/it]"
     ]
    },
    {
     "name": "stdout",
     "output_type": "stream",
     "text": [
      "Frames extraction and CSV creation completed.\n"
     ]
    },
    {
     "name": "stderr",
     "output_type": "stream",
     "text": [
      "\n"
     ]
    }
   ],
   "source": [
    "# Create a DataFrame from frames_info list\n",
    "frames_df = pd.DataFrame(frames_info)\n",
    "\n",
    "# Save the DataFrame to a CSV file\n",
    "frames_df.to_csv(csv_filename, index=False)\n",
    "\n",
    "print(\"Frames extraction and CSV creation completed.\")"
   ]
  },
  {
   "cell_type": "code",
   "execution_count": null,
   "id": "b0e6ec9a",
   "metadata": {},
   "outputs": [],
   "source": []
  }
 ],
 "metadata": {
  "kernelspec": {
   "display_name": "Python 3 (ipykernel)",
   "language": "python",
   "name": "python3"
  },
  "language_info": {
   "codemirror_mode": {
    "name": "ipython",
    "version": 3
   },
   "file_extension": ".py",
   "mimetype": "text/x-python",
   "name": "python",
   "nbconvert_exporter": "python",
   "pygments_lexer": "ipython3",
   "version": "3.10.10"
  }
 },
 "nbformat": 4,
 "nbformat_minor": 5
}
